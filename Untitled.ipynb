{
 "cells": [
  {
   "cell_type": "code",
   "execution_count": null,
   "metadata": {},
   "outputs": [],
   "source": []
  },
  {
   "cell_type": "markdown",
   "metadata": {},
   "source": [
    "\n",
    "\n",
    "# Exercice 1\n",
    "\n",
    "1. Le code commence par créer une pile vide `Q` puis dépile tous les éléments de `P` jusqu'à ce que cette pile soit vide. Chacun des éléments est immédiatement empilé dans `Q`.\n",
    "\n",
    "    On obtient donc la pile : $(Queue)\\,4\\,\\rightarrow 2 \\rightarrow 5 \\rightarrow 8\\,(Sommet)$\n",
    "\n",
    "\n",
    "2. On propose le code suivant :\n",
    "\n",
    "    ```python\n",
    "    def hauteur_pile (P):\n",
    "        Q = creer_pile_vide()\n",
    "        n = 0\n",
    "        while not (est_vide(P)):\n",
    "            n = n + 1\n",
    "            x = depiler(P)\n",
    "            empiler(Q, x)\n",
    "        while not(est_vide(Q)):\n",
    "            x = depiler(Q)\n",
    "            empiler(P, x)\n",
    "        return n\n",
    "    ```\n"
   ]
  },
  {
   "cell_type": "code",
   "execution_count": null,
   "metadata": {},
   "outputs": [],
   "source": []
  }
 ],
 "metadata": {
  "kernelspec": {
   "display_name": "Python 3",
   "language": "python",
   "name": "python3"
  },
  "language_info": {
   "codemirror_mode": {
    "name": "ipython",
    "version": 3
   },
   "file_extension": ".py",
   "mimetype": "text/x-python",
   "name": "python",
   "nbconvert_exporter": "python",
   "pygments_lexer": "ipython3",
   "version": "3.8.5"
  }
 },
 "nbformat": 4,
 "nbformat_minor": 4
}
